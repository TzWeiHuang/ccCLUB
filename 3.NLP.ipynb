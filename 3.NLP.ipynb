{
 "cells": [
  {
   "cell_type": "code",
   "execution_count": 63,
   "metadata": {},
   "outputs": [],
   "source": [
    "import jieba\n",
    "jieba.set_dictionary('./dict.txt.big')\n",
    "with open(\"正面詞無重複_9365詞.txt\", mode = \"r\") as f:\n",
    "    positive_words = []\n",
    "    for i in f:\n",
    "        positive_words.append(i.strip())\n",
    "\n",
    "    \n",
    "with open(\"負面詞無重複_11230詞.txt\", mode = \"r\") as f:\n",
    "    negative_words = []\n",
    "    for i in f:\n",
    "        negative_words.append(i.strip())"
   ]
  },
  {
   "cell_type": "code",
   "execution_count": 64,
   "metadata": {},
   "outputs": [],
   "source": [
    "import pandas as pd\n",
    "import re\n",
    "df = pd.read_csv(\"ccClub_project_facebook.csv\") \n",
    "# find texts with name and total name\n",
    "text_with_name = []\n",
    "name_total = []\n",
    "for i in range(51):\n",
    "    messages = df.iloc[i,3]\n",
    "    messages_lst = [i for i in messages.split(\",\")]\n",
    "\n",
    "\n",
    "    name = df.iloc[i,5]\n",
    "    name_lst = [i for i in name.split(\",\")]\n",
    "    name_lst_2 = []\n",
    "    for i in range(len(name_lst)):\n",
    "        if i % 4 == 3:\n",
    "            name_lst[i] = re.sub('[\\)\\'\\s\\}\\]]', '', name_lst[i])\n",
    "\n",
    "            if len(name_lst[i]) > 1:    \n",
    "                name_lst_2.append(name_lst[i])\n",
    "                if name_lst[i] not in name_total:\n",
    "                    name_total.append(name_lst[i])\n",
    "    \n",
    "\n",
    "    for i in messages_lst:\n",
    "        for j in name_lst_2:\n",
    "            if j in i:\n",
    "                text_with_name.append(i)\n",
    "                break\n"
   ]
  },
  {
   "cell_type": "code",
   "execution_count": 65,
   "metadata": {},
   "outputs": [],
   "source": [
    "# contribute dict(name and score)\n",
    "dict_score={}\n",
    "for i in name_total:\n",
    "    dict_score[i]=0\n",
    "\n",
    "    "
   ]
  },
  {
   "cell_type": "code",
   "execution_count": 66,
   "metadata": {},
   "outputs": [
    {
     "name": "stderr",
     "output_type": "stream",
     "text": [
      "Building prefix dict from c:\\Users\\USER\\Desktop\\python data\\ccClub_final\\dict.txt.big ...\n",
      "Loading model from cache C:\\Users\\USER\\AppData\\Local\\Temp\\jieba.u00c85a38d8a4b84e4abfe6d98143afbd.cache\n",
      "Loading model cost 3.362 seconds.\n",
      "Prefix dict has been built successfully.\n"
     ]
    },
    {
     "name": "stdout",
     "output_type": "stream",
     "text": [
      "[('群英', 38), ('美朵', 36), ('元和雅', 34), ('美麗線', 34), ('耀媄', 33), ('艾芙蘿', 33), ('教主', 33), ('峻美', 33), ('名悅', 32), ('尚凌', 31), ('仙杜瑞拉', 31), ('曼哈頓', 31), ('雅丰', 31), ('杜瑞拉', 31), ('皇妍', 30), ('希拉雅', 30), ('中山', 30), ('雅典娜', 30), ('席睿', 30), ('君綺', 30), ('諾美', 30), ('秀傳醫美', 30), ('立新', 30), ('晶美', 30), ('景升', 30), ('東京', 30), ('中山璀璨', 30), ('知美', 30), ('法喬', 29), ('艾尚美', 29), ('群英診所', 28), ('萊佳', 28), ('白璧', 28), ('博恩妍', 28), ('慈美', 28), ('欣莘', 28), ('恆麗', 28), ('博愛民權萊佳', 28), ('賦真姸', 28), ('Aone', 28), ('佳思優', 28), ('誠美學', 21), ('n桃竹苗區', 11), ('990', 11), ('美渥館', 10), ('巨星', 8), ('葉峻昇', 6), ('山根', 5), ('五官', 5), ('陳雍元', 5), ('南京復興站', 3), ('第一', 3), ('童顏', 3), ('光澤', 3), ('米蘭', 3), ('一年', 3), ('華崴', 3), ('博愛萊佳', 3), ('張世幸', 2), ('第四', 2), ('原美學', 2), ('美塑館', 2), ('嘉仕美', 2), ('依美琦', 2), ('慕顏', 2), ('丰雅', 2), ('葛鎂', 2), ('白璧診所', 2), ('蜜絲歐妮', 2), ('半年', 2), ('陳大正', 1), ('去年', 1), ('璧江', 1), ('10天', 1), ('上禮拜', 1), ('台南', 1), ('popo81126', 1), ('高雄法喬', 1), ('林仲樵', 1), ('黃俊源', 1), ('曾文尚', 1), ('林弘穎', 1), ('3葉', 1), ('蔡宗賢', 1), ('100元', 1), ('綺麗嘉', 1), ('3-6個月', 1), ('徐若', 1), ('水湳店', 1), ('三個月', 1), ('10點', 1), ('昨天', 1), ('這兩週', 1), ('前半年', 1), ('一年多', 1), ('美人', 1), ('城中', 1), ('仙度瑞拉', 1), ('米秝琪', 1), ('這個月', 1), ('7天', 1), ('非凡尚水', 1), ('翰穎', 1), ('澎澎', 1), ('今年7月', 1), ('前三天', 1), ('雅典娜診所', 1), ('黃鼎鈞', 1), ('1-2', 1), ('7-8成', 1), ('10-15分鐘', 1), ('三天', 1), ('1個月', 1), ('一小時', 1), ('下個月', 1), ('後天', 1), ('2、4', 1), ('10%', 1), ('一年半', 1), ('0.5cm', 1), ('中醫師', 1), ('蕭彥彰', 1), ('一天', 1), ('百分之百', 1), ('台中推仙', 1), ('1週', 0), ('台北教主', 0), ('高雄', 0), ('林日新', 0), ('北張南許', 0), ('張簡醫師', 0), ('謝宇軒', 0), ('過兩天', 0), ('0.0', 0), ('張睿紘', 0), ('200', 0), ('高全祥', 0), ('8年', 0), ('隆完', 0), ('吳峻豪', 0), ('台北大直區', 0), ('Goretex', 0), ('2年', 0), ('台北市', 0), ('第三天', 0), ('江蕎恩光', 0), ('吳于琪', 0), ('Lapeonía北屯店', 0), ('87', 0), ('快五年', 0), ('一毛錢', 0), ('林鴻穎耳鼻喉科', 0), ('年初', 0), ('沈妍羲', -1), ('萊佳許哲', -1), ('張簡仕煌', -1), ('前幾天', -1), ('李晉良', -1), ('陳怡甄', -1), ('洪婉倩', -1), ('高雄巨蛋店', -1), ('南豬北張', -1), ('劉郁蕾', -1), ('幾小時', -1), ('台中', -1), ('陳建璋', -1), ('顏韋', -1), ('11/10', -1), ('臺北', -1), ('林晏君', -1), ('13', -1), ('張衍爐', -1), ('六年', -1), ('吳孟穎', -1), ('吳明憲', -1), ('台北推名悅診所', -1), ('大陸', -1), ('蘇皇銓', -1), ('邱俊彥', -1), ('朱帥', -1), ('吳宣葶', -1), ('曾蕾夢', -1), ('隔天', -1), ('忠孝敦化站', -1), ('謝宇翔', -1), ('雅典娜整形外科診所', -1), ('潘妃甯', -1), ('謝琪琪', -1), ('張雅棠', -1), ('饒語彤', -1), ('蔡旻昀', -1), ('何怡賢', -1), ('楊宥彤', -1), ('王婷萱', -1), ('陳漪苓', -1), ('顏楺恩', -1), ('朱翎慈', -1), ('潘思妤', -1), ('王安韮', -1), ('林珈汶', -1), ('黃郁婷', -1), ('第二天', -1), ('黃甄甄', -1), ('林誠祐', -1), ('鄭欣柔', -1), ('張維瑄', -1), ('黃思瑋', -1), ('林佳蓉', -1), ('郭妮妮', -1), ('5/20', -1), ('詩威特', -1), ('四萬多', -1), ('台北台中', -1), ('25歲', -1), ('黃婉婷', -1), ('謝瑄瑄', -1), ('高雄群英', -1), ('衛福部', -1), ('陳渝柔', -1), ('陳瑩瑩', -1), ('484', -1), ('前幾個月', -1), ('幾年', -1), ('卓佩璇', -1), ('阿凡達', -1), ('陳羽柔', -1), ('余亭瑤', -1), ('于芹', -1), ('吳妍樂', -1), ('今年一月初', -1), ('呂慈', -1), ('五年前', -1), ('陳佳甄', -2), ('許瑞賢', -2), ('韋志曄', -2), ('第三', -2), ('謝東穎', -2), ('張簡', -2), ('劉承信', -2), ('范宥甄', -2), ('台北許', -2), ('U0001f979', -3), ('游瑞欽', -3), ('當天', -3), ('瑞賢', -3), ('蘇毓彬', -4), ('萊佳許英哲', -4), ('韓國', -5), ('台北', -5), ('何旭爵', -7), ('40', -11), ('朱立箴', -14), ('許英哲', -48)]\n"
     ]
    }
   ],
   "source": [
    "# score\n",
    "for i in text_with_name:\n",
    "    seg_list = jieba.cut(i, cut_all = False, HMM = True)\n",
    "    score = 0\n",
    "    for word in seg_list:\n",
    "        if word in positive_words:\n",
    "            score +=1\n",
    "        elif word in negative_words:\n",
    "            score -=1\n",
    "        else:\n",
    "            pass\n",
    "\n",
    "    for j in name_total:\n",
    "        if j in i:\n",
    "            if score > 1:\n",
    "                dict_score[j] +=1\n",
    "            if score < 1:\n",
    "                dict_score[j] -=1\n",
    "\n",
    "# print(dict_score)\n",
    "# print(\"============================================\")\n",
    "# result = sorted(name_total, key=dict_score.get)\n",
    "# print(result)\n",
    "\n",
    "result_dict = sorted(dict_score.items(), key=lambda x:x[1], reverse = True)\n",
    "print(result_dict)\n",
    "\n",
    "\n",
    "\n"
   ]
  }
 ],
 "metadata": {
  "kernelspec": {
   "display_name": "base",
   "language": "python",
   "name": "python3"
  },
  "language_info": {
   "codemirror_mode": {
    "name": "ipython",
    "version": 3
   },
   "file_extension": ".py",
   "mimetype": "text/x-python",
   "name": "python",
   "nbconvert_exporter": "python",
   "pygments_lexer": "ipython3",
   "version": "3.9.13"
  },
  "orig_nbformat": 4,
  "vscode": {
   "interpreter": {
    "hash": "263930470851f494f0ed2879c35b57985588df20f9e529b86e97dd5eb9ddc466"
   }
  }
 },
 "nbformat": 4,
 "nbformat_minor": 2
}
